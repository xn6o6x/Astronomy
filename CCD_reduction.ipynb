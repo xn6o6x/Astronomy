{
 "cells": [
  {
   "cell_type": "code",
   "execution_count": 1,
   "metadata": {},
   "outputs": [],
   "source": [
    "import os\n",
    "import glob\n",
    "import seaborn as sns\n",
    "from astropy.io import fits\n",
    "import stsci.image as image\n",
    "import matplotlib.pyplot as plt\n",
    "import warnings\n",
    "\n",
    "warnings.filterwarnings(\"ignore\")\n",
    "%load_ext lab_black\n",
    "%config InlineBackend.figure_format = 'retina'"
   ]
  },
  {
   "cell_type": "code",
   "execution_count": 2,
   "metadata": {},
   "outputs": [],
   "source": [
    "class Image:\n",
    "\n",
    "    # construct with an 2D np.array\n",
    "    def __init__(self, arrays):\n",
    "        self.data = arrays\n",
    "\n",
    "    @classmethod\n",
    "\n",
    "    # construct with .fits files reading by astropy.io.fits\n",
    "    def read_fits(cls, input_file_format):\n",
    "        fits_list = []\n",
    "\n",
    "        # get all files matches the file_format, eg. \"bias*.fits\" or \"bias1.fits\"\n",
    "        for fits_image_filename in glob.glob(input_file_format):\n",
    "            with fits.open(fits_image_filename) as hdul:\n",
    "                fits_list.append(cls(hdul[0].data))\n",
    "\n",
    "        if len(fits_list) == 1:\n",
    "            # if only one file, return a Image instead of a np.array\n",
    "            return np.array(fits_list)[0]\n",
    "\n",
    "        else:\n",
    "            # if more than one file, return a np.array consisted of Images\n",
    "            return np.array(fits_list)\n",
    "\n",
    "    # reconstruct the operators\n",
    "    def __sub__(self, other):\n",
    "        return Image(self.data - other.data)\n",
    "\n",
    "    def __add__(self, other):\n",
    "        return Image(self.data + other.data)\n",
    "\n",
    "    def __mul__(self, other):\n",
    "        return Image(self.data * other.data)\n",
    "\n",
    "    def __truediv__(self, other):\n",
    "        return Image(self.data / other.data)\n",
    "\n",
    "    def normalize(self):\n",
    "        return Image(self.data / np.mean(self.data))\n",
    "\n",
    "    # plot a heatmap with seaborn\n",
    "    def plot(self):\n",
    "        plt.figure(figsize=(10, 6))\n",
    "        sns.heatmap(self.data)"
   ]
  },
  {
   "cell_type": "code",
   "execution_count": 3,
   "metadata": {},
   "outputs": [],
   "source": [
    "def combine():\n",
    "\n",
    "    # List of images to combine\n",
    "    input_file = input(\"  input = \")\n",
    "\n",
    "    # List of output images\n",
    "    output_file = input(\" output = \")\n",
    "\n",
    "    # Type of combine operation\n",
    "    combine_mode = input(\"combine = \")\n",
    "\n",
    "    # get all files matches the file_format, eg. \"bias*.fits\" or \"bias1.fits\"\n",
    "    data_to_combine = [Image.read_fits(file).data for file in glob.glob(input_file)]\n",
    "\n",
    "    if combine_mode == \"median\":\n",
    "        combined_image = image.median(data_to_combine)\n",
    "\n",
    "    elif combine_mode == \"average\":\n",
    "        combined_image = image.average(data_to_combine)\n",
    "\n",
    "    if os.path.isfile(output_file):\n",
    "        print(\"File '%s' already exists.\" % output_file)\n",
    "    else:\n",
    "        # save combined image as output_file\n",
    "        fits.HDUList([fits.PrimaryHDU(combined_image)]).writeto(output_file)"
   ]
  },
  {
   "cell_type": "markdown",
   "metadata": {},
   "source": [
    "# Working directory"
   ]
  },
  {
   "cell_type": "code",
   "execution_count": 4,
   "metadata": {},
   "outputs": [],
   "source": [
    "os.chdir(\"/Users/jackarroy/Downloads/test_CCD_reduction\")"
   ]
  },
  {
   "cell_type": "markdown",
   "metadata": {},
   "source": [
    "# Combine bias"
   ]
  },
  {
   "cell_type": "code",
   "execution_count": 5,
   "metadata": {},
   "outputs": [
    {
     "name": "stdin",
     "output_type": "stream",
     "text": [
      "  input =  bias*.fits\n",
      " output =  master_bias_py.fits\n",
      "combine =  median\n"
     ]
    }
   ],
   "source": [
    "combine()"
   ]
  },
  {
   "cell_type": "markdown",
   "metadata": {},
   "source": [
    "# Subtract bias"
   ]
  },
  {
   "cell_type": "code",
   "execution_count": 6,
   "metadata": {},
   "outputs": [],
   "source": [
    "bias = Image.read_fits(\"master_bias_py.fits\")\n",
    "\n",
    "flat = Image.read_fits(\"flat*.fits\")\n",
    "\n",
    "m67 = Image.read_fits(\"m67*.fits\")\n",
    "\n",
    "flat -= bias\n",
    "\n",
    "m67 -= bias"
   ]
  },
  {
   "cell_type": "markdown",
   "metadata": {},
   "source": [
    "# Combine flat"
   ]
  },
  {
   "cell_type": "code",
   "execution_count": 7,
   "metadata": {},
   "outputs": [
    {
     "name": "stdin",
     "output_type": "stream",
     "text": [
      "  input =  flat_b*.fits\n",
      " output =  master_flat_b_py.fits\n",
      "combine =  average\n"
     ]
    }
   ],
   "source": [
    "combine()"
   ]
  },
  {
   "cell_type": "markdown",
   "metadata": {},
   "source": [
    "# Normalize flat"
   ]
  },
  {
   "cell_type": "code",
   "execution_count": 8,
   "metadata": {},
   "outputs": [],
   "source": [
    "flat_b = Image.read_fits(\"master_flat_b_py.fits\")\n",
    "\n",
    "flat_b = Image.normalize(flat_b)"
   ]
  },
  {
   "cell_type": "markdown",
   "metadata": {},
   "source": [
    "# Divided by flat"
   ]
  },
  {
   "cell_type": "code",
   "execution_count": 9,
   "metadata": {},
   "outputs": [],
   "source": [
    "m67_b = Image.read_fits(\"m67_b*.fits\")\n",
    "\n",
    "m67_b /= flat_b"
   ]
  },
  {
   "cell_type": "markdown",
   "metadata": {},
   "source": [
    "# Combine target image"
   ]
  },
  {
   "cell_type": "code",
   "execution_count": 10,
   "metadata": {},
   "outputs": [
    {
     "name": "stdin",
     "output_type": "stream",
     "text": [
      "  input =  m67_b*.fits\n",
      " output =  m67_b_final_py.fits\n",
      "combine =  average\n"
     ]
    }
   ],
   "source": [
    "combine()"
   ]
  },
  {
   "cell_type": "code",
   "execution_count": 11,
   "metadata": {},
   "outputs": [
    {
     "data": {
      "text/plain": [
       "array([[  21.638529,   22.945717,   23.168673, ...,   18.559359,\n",
       "          18.118979,   21.08277 ],\n",
       "       [  21.933144,   21.02201 ,   19.70898 , ...,   19.561827,\n",
       "          18.481653,   22.101898],\n",
       "       [  19.762846,   19.333054,   19.682869, ...,   18.055632,\n",
       "          21.93515 ,   22.454481],\n",
       "       ...,\n",
       "       [  21.633627,   20.00421 ,   19.739054, ...,   16.223099,\n",
       "          20.599184,   18.256285],\n",
       "       [  20.55961 ,   18.661057,   20.729004, ...,   23.314104,\n",
       "          22.139015,   22.600708],\n",
       "       [1021.3212  , 2845.4563  , 3016.7693  , ..., 6951.172   ,\n",
       "        5632.7827  , 3328.0964  ]], dtype=float32)"
      ]
     },
     "execution_count": 11,
     "metadata": {},
     "output_type": "execute_result"
    }
   ],
   "source": [
    "m67_b_final_py = Image.read_fits(\"m67_b_final_py.fits\")\n",
    "m67_b_final_py.data"
   ]
  },
  {
   "cell_type": "code",
   "execution_count": 12,
   "metadata": {},
   "outputs": [
    {
     "data": {
      "text/plain": [
       "array([[  21.638529,   22.945717,   23.168673, ...,   18.559359,\n",
       "          18.118979,   21.08277 ],\n",
       "       [  21.933144,   21.02201 ,   19.70898 , ...,   19.561827,\n",
       "          18.481653,   22.101898],\n",
       "       [  19.762846,   19.333054,   19.682869, ...,   18.055632,\n",
       "          21.93515 ,   22.454481],\n",
       "       ...,\n",
       "       [  21.633627,   20.00421 ,   19.739054, ...,   16.223099,\n",
       "          20.599184,   18.256285],\n",
       "       [  20.55961 ,   18.661057,   20.729004, ...,   23.314104,\n",
       "          22.139015,   22.600708],\n",
       "       [1021.3212  , 2845.4563  , 3016.7693  , ..., 6951.172   ,\n",
       "        5632.7827  , 3328.0964  ]], dtype=float32)"
      ]
     },
     "execution_count": 12,
     "metadata": {},
     "output_type": "execute_result"
    }
   ],
   "source": [
    "m67_b_final = Image.read_fits(\"m67_b_final.fits\")\n",
    "m67_b_final.data"
   ]
  },
  {
   "cell_type": "code",
   "execution_count": 15,
   "metadata": {},
   "outputs": [
    {
     "data": {
      "text/plain": [
       "False"
      ]
     },
     "execution_count": 15,
     "metadata": {},
     "output_type": "execute_result"
    }
   ],
   "source": [
    "False in (m67_b_final.data == m67_b_final_py.data)"
   ]
  }
 ],
 "metadata": {
  "kernelspec": {
   "display_name": "Python 3",
   "language": "python",
   "name": "python3"
  },
  "language_info": {
   "codemirror_mode": {
    "name": "ipython",
    "version": 3
   },
   "file_extension": ".py",
   "mimetype": "text/x-python",
   "name": "python",
   "nbconvert_exporter": "python",
   "pygments_lexer": "ipython3",
   "version": "3.6.6"
  }
 },
 "nbformat": 4,
 "nbformat_minor": 2
}
